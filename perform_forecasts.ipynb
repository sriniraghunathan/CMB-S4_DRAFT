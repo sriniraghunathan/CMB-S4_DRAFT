{
 "cells": [
  {
   "cell_type": "markdown",
   "metadata": {},
   "source": [
    "# CMB-S4: DRAFT tool"
   ]
  },
  {
   "cell_type": "markdown",
   "metadata": {},
   "source": [
    "## loading necessary python modules"
   ]
  },
  {
   "cell_type": "code",
   "execution_count": 1,
   "metadata": {},
   "outputs": [],
   "source": [
    "%load_ext autoreload\n",
    "%autoreload 2\n",
    "\n",
    "#%pylab notebook\n",
    "%matplotlib inline\n",
    "from pylab import *\n",
    "import os\n",
    "\n",
    "import argparse, sys, numpy as np, scipy as sc, warnings, os\n",
    "sys.path.append('modules/')\n",
    "import tools\n",
    "\n",
    "#import matplotlib.cbook\n",
    "warnings.filterwarnings('ignore',category=RuntimeWarning)\n",
    "#warnings.filterwarnings('ignore', category=DeprecationWarning)\n",
    "#warnings.filterwarnings('ignore', category=matplotlib.cbook.mplDeprecation)"
   ]
  },
  {
   "cell_type": "code",
   "execution_count": 2,
   "metadata": {},
   "outputs": [],
   "source": [
    "fsky = 0.57\n",
    "fix_params = ['mnu']\n",
    "prior_dict = {'tau': 0.007}\n",
    "results_folder = 'results/'\n",
    "ilc_pgm_name = 'get_ilc_weights_and_residuals.py'\n",
    "fisher_pgm_name = 'get_fisher_withdelensing.py'\n",
    "ilc_opfname = '%s/s4_cmb_ilc.npy' %(results_folder)\n",
    "fisher_opfname = '%s/s4_cmb_fisher.npy' %(results_folder)"
   ]
  },
  {
   "cell_type": "code",
   "execution_count": null,
   "metadata": {},
   "outputs": [
    {
     "name": "stdout",
     "output_type": "stream",
     "text": [
      "\n",
      "######\n",
      "python3 get_ilc_weights_and_residuals.py -opfname results//s4_cmb_ilc.npy\n"
     ]
    }
   ],
   "source": [
    "#execute\n",
    "cmd1 = 'python3 %s -opfname %s' %(ilc_pgm_name, ilc_opfname)\n",
    "print('\\n######')\n",
    "print(cmd1)\n",
    "os.system(cmd1)\n",
    "cmd2 = 'python3 %s -ilc_fname %s -opfname %s' %(fisher_pgm_name, ilc_opfname, fisher_opfname)\n",
    "print('\\n######')\n",
    "print(cmd2)\n",
    "#os.system(cmd2)\n",
    "print('######')"
   ]
  },
  {
   "cell_type": "code",
   "execution_count": null,
   "metadata": {},
   "outputs": [],
   "source": [
    "#now read the Fisher matrix and get constraints\n",
    "which_spectra = 'delensed'\n",
    "results_dict = np.load(fisher_opfname, allow_pickle = True).item()\n",
    "cosmo_params = results_dict['cosmoParams']\n",
    "fisher_mat_dict = results_dict['fisherGaussian'][0]\n",
    "fisher_mat = fisher_mat_dict[which_spectra] * fsky"
   ]
  },
  {
   "cell_type": "code",
   "execution_count": null,
   "metadata": {},
   "outputs": [],
   "source": [
    "#fix params and add priors\n",
    "fisher_mat, cosmo_params = tools.fn_fix_params(fisher_mat, cosmo_params, fix_params)\n",
    "cosmo_params = np.asarray(cosmo_params)\n",
    "#add prior\n",
    "fisher_mat = tools.fn_add_prior(fisher_mat, cosmo_params, prior_dict)"
   ]
  },
  {
   "cell_type": "code",
   "execution_count": null,
   "metadata": {},
   "outputs": [],
   "source": [
    "cov_mat = np.linalg.inv(fisher_mat)\n",
    "cosmo_constraints = np.diag(cov_mat)**0.5\n",
    "\n",
    "print('One sigma errors are listed below:\\n')\n",
    "for p, sigma in zip(cosmo_params, cosmo_constraints):\n",
    "    print('\\tParam = %s; %g' %(p, sigma))\n",
    "sys.exit()"
   ]
  },
  {
   "cell_type": "code",
   "execution_count": null,
   "metadata": {},
   "outputs": [],
   "source": []
  }
 ],
 "metadata": {
  "kernelspec": {
   "display_name": "Python 3 (ipykernel)",
   "language": "python",
   "name": "python3"
  },
  "language_info": {
   "codemirror_mode": {
    "name": "ipython",
    "version": 3
   },
   "file_extension": ".py",
   "mimetype": "text/x-python",
   "name": "python",
   "nbconvert_exporter": "python",
   "pygments_lexer": "ipython3",
   "version": "3.9.9"
  }
 },
 "nbformat": 4,
 "nbformat_minor": 2
}
