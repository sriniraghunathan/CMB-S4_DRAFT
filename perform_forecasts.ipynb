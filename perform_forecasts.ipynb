{
 "cells": [
  {
   "cell_type": "markdown",
   "metadata": {},
   "source": [
    "# CMB-S4: DRAFT tool"
   ]
  },
  {
   "cell_type": "markdown",
   "metadata": {},
   "source": [
    "## loading necessary python modules"
   ]
  },
  {
   "cell_type": "code",
   "execution_count": 1,
   "metadata": {},
   "outputs": [],
   "source": [
    "%load_ext autoreload\n",
    "%autoreload 2\n",
    "\n",
    "#%pylab notebook\n",
    "%matplotlib inline\n",
    "from pylab import *\n",
    "import os\n",
    "\n",
    "import argparse, sys, numpy as np, scipy as sc, warnings, os\n",
    "sys.path.append('modules/')\n",
    "import tools\n",
    "\n",
    "#import matplotlib.cbook\n",
    "warnings.filterwarnings('ignore',category=RuntimeWarning)\n",
    "#warnings.filterwarnings('ignore', category=DeprecationWarning)\n",
    "#warnings.filterwarnings('ignore', category=matplotlib.cbook.mplDeprecation)"
   ]
  },
  {
   "cell_type": "code",
   "execution_count": 2,
   "metadata": {},
   "outputs": [],
   "source": [
    "fsky = 0.57\n",
    "fix_params = ['mnu']\n",
    "prior_dict = {'tau': 0.007}\n",
    "results_folder = 'results/'\n",
    "ilc_pgm_name = 'get_ilc_weights_and_residuals.py'\n",
    "fisher_pgm_name = 'get_fisher_withdelensing.py'\n",
    "'''\n",
    "ilc_opfname = '%s/s4_cmb_ilc.npy' %(results_folder)\n",
    "fisher_opfname = '%s/s4_cmb_fisher.npy' %(results_folder)\n",
    "'''\n",
    "ilc_folder = 'ilc_outputs/20210506_with202102designtoolinputforpySM3sims_sedscalingfordust/s4_so_joint_configs/'\n",
    "ilc_opfname = '%s/s4wide_single_chlat_plus_aso/s4wide_single_chlat_plus_aso_ilc_galaxy1_27-39-93-145-225-278_TT-EE_galmask2_AZ_for7years.npy' %(ilc_folder)\n",
    "fisher_opfname = ilc_opfname.replace('ilc_outputs/', 'results/')\n"
   ]
  },
  {
   "cell_type": "code",
   "execution_count": 3,
   "metadata": {},
   "outputs": [
    {
     "name": "stdout",
     "output_type": "stream",
     "text": [
      "\n",
      "######\n",
      "python3 get_ilc_weights_and_residuals.py -opfname ilc_outputs/20210506_with202102designtoolinputforpySM3sims_sedscalingfordust/s4_so_joint_configs//s4wide_single_chlat_plus_aso/s4wide_single_chlat_plus_aso_ilc_galaxy1_27-39-93-145-225-278_TT-EE_galmask2_AZ_for7years.npy\n",
      "\n",
      "######\n",
      "python3 get_fisher_withdelensing.py -ilc_fname ilc_outputs/20210506_with202102designtoolinputforpySM3sims_sedscalingfordust/s4_so_joint_configs//s4wide_single_chlat_plus_aso/s4wide_single_chlat_plus_aso_ilc_galaxy1_27-39-93-145-225-278_TT-EE_galmask2_AZ_for7years.npy -opfname results/20210506_with202102designtoolinputforpySM3sims_sedscalingfordust/s4_so_joint_configs//s4wide_single_chlat_plus_aso/s4wide_single_chlat_plus_aso_ilc_galaxy1_27-39-93-145-225-278_TT-EE_galmask2_AZ_for7years.npy\n",
      "######\n"
     ]
    }
   ],
   "source": [
    "#execute\n",
    "cmd1 = 'python3 %s -opfname %s' %(ilc_pgm_name, ilc_opfname)\n",
    "print('\\n######')\n",
    "print(cmd1)\n",
    "##os.system(cmd1)\n",
    "cmd2 = 'python3 %s -ilc_fname %s -opfname %s' %(fisher_pgm_name, ilc_opfname, fisher_opfname)\n",
    "print('\\n######')\n",
    "print(cmd2)\n",
    "#os.system(cmd2)\n",
    "print('######')"
   ]
  },
  {
   "cell_type": "code",
   "execution_count": 50,
   "metadata": {},
   "outputs": [],
   "source": [
    "#now read the Fisher matrix and get constraints\n",
    "which_spectra = 'delensed'\n",
    "results_dict = np.load(fisher_opfname, allow_pickle = True).item()\n",
    "cosmo_params = results_dict['cosmoParams']\n",
    "fisher_mat_dict = results_dict['fisherGaussian'][0]\n",
    "fisher_mat = fisher_mat_dict[which_spectra] * fsky"
   ]
  },
  {
   "cell_type": "code",
   "execution_count": 51,
   "metadata": {},
   "outputs": [],
   "source": [
    "if (0):\n",
    "    fisher_mat = array([[ 7.41459714e+07,  5.82560535e+07, -1.15268847e+06,\n",
    "        -1.70959920e+14,  2.75149006e+06,  7.57463690e+06,\n",
    "         1.39290453e+09, -1.02569173e+06],\n",
    "       [ 5.82560535e+07,  5.32077622e+09, -1.93536132e+07,\n",
    "         4.96476207e+16,  1.62017787e+08, -2.17078245e+08,\n",
    "        -3.12248162e+10,  6.58349283e+05],\n",
    "       [-1.15268847e+06, -1.93536132e+07,  1.25127186e+05,\n",
    "        -3.67434283e+14, -1.01550749e+06,  1.46976190e+06,\n",
    "         3.85472435e+08,  1.71081118e+04],\n",
    "       [-1.70959920e+14,  4.96476207e+16, -3.67434283e+14,\n",
    "         1.58073631e+24,  3.43154635e+15, -6.64973514e+15,\n",
    "        -1.19597794e+18, -2.81001141e+13],\n",
    "       [ 2.75149006e+06,  1.62017787e+08, -1.01550749e+06,\n",
    "         3.43154635e+15,  9.26414490e+06, -1.45177199e+07,\n",
    "        -3.26785895e+09, -4.37101457e+04],\n",
    "       [ 7.57463690e+06, -2.17078245e+08,  1.46976190e+06,\n",
    "        -6.64973514e+15, -1.45177199e+07,  2.87501024e+07,\n",
    "         4.99172298e+09,  8.60305274e+02],\n",
    "       [ 1.39290453e+09, -3.12248162e+10,  3.85472435e+08,\n",
    "        -1.19597794e+18, -3.26785895e+09,  4.99172298e+09,\n",
    "         7.26942479e+12,  2.82329684e+07],\n",
    "       [-1.02569173e+06,  6.58349283e+05,  1.71081118e+04,\n",
    "        -2.81001141e+13, -4.37101457e+04,  8.60305274e+02,\n",
    "         2.82329684e+07,  1.84403163e+04]])\n",
    "    print( fisher_mat.shape )\n",
    "    fisher_mat = fisher_mat * fsky"
   ]
  },
  {
   "cell_type": "code",
   "execution_count": 52,
   "metadata": {},
   "outputs": [
    {
     "name": "stdout",
     "output_type": "stream",
     "text": [
      "[[ 7.32571561e+07  6.00168931e+07 -1.14330284e+06 -1.83981398e+14\n",
      "   2.72067473e+06  7.53745338e+06  1.39515718e+09 -1.01154787e+06]\n",
      " [ 6.00168931e+07  5.31705506e+09 -1.93726378e+07  4.96797792e+16\n",
      "   1.62087078e+08 -2.17029811e+08 -3.12353205e+10  6.30254778e+05]\n",
      " [-1.14330284e+06 -1.93726378e+07  1.25035266e+05 -3.67340181e+14\n",
      "  -1.01526462e+06  1.47033410e+06  3.85470409e+08  1.69585033e+04]\n",
      " [-1.83981398e+14  4.96797792e+16 -3.67340181e+14  1.58072634e+24\n",
      "   3.43150407e+15 -6.65104002e+15 -1.19608775e+18 -2.78920980e+13]\n",
      " [ 2.72067473e+06  1.62087078e+08 -1.01526462e+06  3.43150407e+15\n",
      "   9.26366237e+06 -1.45206545e+07 -3.26804554e+09 -4.32343601e+04]\n",
      " [ 7.53745338e+06 -2.17029811e+08  1.47033410e+06 -6.65104002e+15\n",
      "  -1.45206545e+07  2.87517206e+07  4.99244517e+09  1.45278115e+03]\n",
      " [ 1.39515718e+09 -3.12353205e+10  3.85470409e+08 -1.19608775e+18\n",
      "  -3.26804554e+09  4.99244517e+09  7.26871208e+12  2.81899968e+07]\n",
      " [-1.01154787e+06  6.30254778e+05  1.69585033e+04 -2.78920980e+13\n",
      "  -4.32343601e+04  1.45278115e+03  2.81899968e+07  1.82140522e+04]]\n"
     ]
    }
   ],
   "source": [
    "print(fisher_mat/fsky)"
   ]
  },
  {
   "cell_type": "code",
   "execution_count": 55,
   "metadata": {},
   "outputs": [
    {
     "name": "stdout",
     "output_type": "stream",
     "text": [
      "[[ 4.17565790e+07  3.42096291e+07 -6.51682621e+05 -1.04869397e+14\n",
      "   1.55078460e+06  4.29634843e+06  7.95239593e+08]\n",
      " [ 3.42096291e+07  3.03072138e+09 -1.10424035e+07  2.83174741e+16\n",
      "   9.23896345e+07 -1.23706992e+08 -1.78041327e+10]\n",
      " [-6.51682621e+05 -1.10424035e+07  7.12701014e+04 -2.09383903e+14\n",
      "  -5.78700831e+05  8.38090435e+05  2.19718133e+08]\n",
      " [-1.04869397e+14  2.83174741e+16 -2.09383903e+14  9.01014013e+23\n",
      "   1.95595732e+15 -3.79109281e+15 -6.81770017e+17]\n",
      " [ 1.55078460e+06  9.23896345e+07 -5.78700831e+05  1.95595732e+15\n",
      "   5.28028755e+06 -8.27677306e+06 -1.86278596e+09]\n",
      " [ 4.29634843e+06 -1.23706992e+08  8.38090435e+05 -3.79109281e+15\n",
      "  -8.27677306e+06  1.64292971e+07  2.84569375e+09]\n",
      " [ 7.95239593e+08 -1.78041327e+10  2.19718133e+08 -6.81770017e+17\n",
      "  -1.86278596e+09  2.84569375e+09  4.14316589e+12]]\n"
     ]
    }
   ],
   "source": [
    "#fix params and add priors\n",
    "fisher_mat, cosmo_params = tools.fn_fix_params(fisher_mat, cosmo_params, fix_params)\n",
    "cosmo_params = np.asarray(cosmo_params)\n",
    "#add prior\n",
    "fisher_mat = tools.fn_add_prior(fisher_mat, cosmo_params, prior_dict)\n",
    "print(fisher_mat)"
   ]
  },
  {
   "cell_type": "code",
   "execution_count": 56,
   "metadata": {},
   "outputs": [
    {
     "name": "stdout",
     "output_type": "stream",
     "text": [
      "One sigma errors are listed below:\n",
      "\n",
      "\tParam = omega_c_h2; 0.000598477\n",
      "\tParam = omega_b_h2; 4.42264e-05\n",
      "\tParam = N_eff; 0.0342851\n",
      "\tParam = A_s; 1.50996e-11\n",
      "\tParam = n_s; 0.00282108\n",
      "\tParam = tau; 0.00391734\n",
      "\tParam = theta_s; 7.41568e-07\n"
     ]
    }
   ],
   "source": [
    "cov_mat = np.linalg.inv(fisher_mat)\n",
    "cosmo_constraints = np.diag(cov_mat)**0.5\n",
    "\n",
    "print('One sigma errors are listed below:\\n')\n",
    "for p, sigma in zip(cosmo_params, cosmo_constraints):\n",
    "    print('\\tParam = %s; %g' %(p, sigma))"
   ]
  },
  {
   "cell_type": "code",
   "execution_count": null,
   "metadata": {},
   "outputs": [],
   "source": []
  },
  {
   "cell_type": "code",
   "execution_count": null,
   "metadata": {},
   "outputs": [],
   "source": []
  }
 ],
 "metadata": {
  "kernelspec": {
   "display_name": "Python 3 (ipykernel)",
   "language": "python",
   "name": "python3"
  },
  "language_info": {
   "codemirror_mode": {
    "name": "ipython",
    "version": 3
   },
   "file_extension": ".py",
   "mimetype": "text/x-python",
   "name": "python",
   "nbconvert_exporter": "python",
   "pygments_lexer": "ipython3",
   "version": "3.9.9"
  }
 },
 "nbformat": 4,
 "nbformat_minor": 2
}
