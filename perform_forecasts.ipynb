{
 "cells": [
  {
   "cell_type": "markdown",
   "metadata": {},
   "source": [
    "# CMB-S4: DRAFT tool"
   ]
  },
  {
   "cell_type": "markdown",
   "metadata": {},
   "source": [
    "## loading necessary python modules"
   ]
  },
  {
   "cell_type": "code",
   "execution_count": 5,
   "metadata": {},
   "outputs": [],
   "source": [
    "%load_ext autoreload\n",
    "%autoreload 2\n",
    "\n",
    "#%pylab notebook\n",
    "%matplotlib inline\n",
    "from pylab import *\n",
    "import os\n",
    "\n",
    "import argparse, sys, numpy as np, scipy as sc, warnings, os\n",
    "sys.path.append('modules/')\n",
    "import tools\n",
    "\n",
    "#import matplotlib.cbook\n",
    "warnings.filterwarnings('ignore',category=RuntimeWarning)\n",
    "#warnings.filterwarnings('ignore', category=DeprecationWarning)\n",
    "#warnings.filterwarnings('ignore', category=matplotlib.cbook.mplDeprecation)"
   ]
  },
  {
   "cell_type": "markdown",
   "metadata": {},
   "source": [
    "# set parameters"
   ]
  },
  {
   "cell_type": "code",
   "execution_count": 6,
   "metadata": {},
   "outputs": [],
   "source": [
    "fsky = 0.57\n",
    "fix_params = ['mnu']\n",
    "prior_dict = {'tau': 0.007}\n",
    "results_folder = 'results/'\n",
    "ilc_pgm_name = 'get_ilc_weights_and_residuals.py'\n",
    "fisher_pgm_name = 'get_fisher_withdelensing.py'\n",
    "'''\n",
    "ilc_opfname = '%s/s4_cmb_ilc.npy' %(results_folder)\n",
    "fisher_opfname = '%s/s4_cmb_fisher.npy' %(results_folder)\n",
    "'''\n",
    "ilc_folder = 'ilc_outputs/20210506_with202102designtoolinputforpySM3sims_sedscalingfordust/s4_so_joint_configs/'\n",
    "ilc_opfname = '%s/s4wide_single_chlat_plus_aso/s4wide_single_chlat_plus_aso_ilc_galaxy1_27-39-93-145-225-278_TT-EE_galmask2_AZ_for7years.npy' %(ilc_folder)\n",
    "fisher_opfname = ilc_opfname.replace('ilc_outputs/', 'results/')\n"
   ]
  },
  {
   "cell_type": "markdown",
   "metadata": {},
   "source": [
    "# Step1: Execute ILC code to get the residuals.\n",
    "# Step2: Execute the fisher code with the ILC residuals."
   ]
  },
  {
   "cell_type": "code",
   "execution_count": 7,
   "metadata": {},
   "outputs": [
    {
     "name": "stdout",
     "output_type": "stream",
     "text": [
      "\n",
      "######\n",
      "python3 get_ilc_weights_and_residuals.py -opfname ilc_outputs/20210506_with202102designtoolinputforpySM3sims_sedscalingfordust/s4_so_joint_configs//s4wide_single_chlat_plus_aso/s4wide_single_chlat_plus_aso_ilc_galaxy1_27-39-93-145-225-278_TT-EE_galmask2_AZ_for7years.npy\n",
      "\n",
      "######\n",
      "python3 get_fisher_withdelensing.py -ilc_fname ilc_outputs/20210506_with202102designtoolinputforpySM3sims_sedscalingfordust/s4_so_joint_configs//s4wide_single_chlat_plus_aso/s4wide_single_chlat_plus_aso_ilc_galaxy1_27-39-93-145-225-278_TT-EE_galmask2_AZ_for7years.npy -opfname results/20210506_with202102designtoolinputforpySM3sims_sedscalingfordust/s4_so_joint_configs//s4wide_single_chlat_plus_aso/s4wide_single_chlat_plus_aso_ilc_galaxy1_27-39-93-145-225-278_TT-EE_galmask2_AZ_for7years.npy\n",
      "######\n"
     ]
    }
   ],
   "source": [
    "#execute\n",
    "cmd1 = 'python3 %s -opfname %s' %(ilc_pgm_name, ilc_opfname)\n",
    "print('\\n######')\n",
    "print(cmd1)\n",
    "##os.system(cmd1)\n",
    "cmd2 = 'python3 %s -ilc_fname %s -opfname %s' %(fisher_pgm_name, ilc_opfname, fisher_opfname)\n",
    "print('\\n######')\n",
    "print(cmd2)\n",
    "#os.system(cmd2)\n",
    "print('######')"
   ]
  },
  {
   "cell_type": "markdown",
   "metadata": {},
   "source": [
    "# now read the Fisher matrix and get constraints"
   ]
  },
  {
   "cell_type": "code",
   "execution_count": 8,
   "metadata": {},
   "outputs": [],
   "source": [
    "#now read the Fisher matrix and get constraints\n",
    "which_spectra = 'delensed'\n",
    "results_dict = np.load(fisher_opfname, allow_pickle = True).item()\n",
    "cosmo_params = results_dict['cosmoParams']\n",
    "fisher_mat_dict = results_dict['fisherGaussian'][0]\n",
    "fisher_mat = fisher_mat_dict[which_spectra] * fsky"
   ]
  },
  {
   "cell_type": "markdown",
   "metadata": {},
   "source": [
    "# fix params and add priors"
   ]
  },
  {
   "cell_type": "code",
   "execution_count": 9,
   "metadata": {},
   "outputs": [
    {
     "name": "stdout",
     "output_type": "stream",
     "text": [
      "[[ 4.55424816e+07  2.75554403e+07 -6.95956515e+05 -3.82939312e+13\n",
      "   1.67939323e+06  4.41536089e+06  7.74805249e+08]\n",
      " [ 2.75554403e+07  3.04416055e+09 -1.09654013e+07  2.81856323e+16\n",
      "   9.21543371e+07 -1.23861650e+08 -1.77117213e+10]\n",
      " [-6.95956515e+05 -1.09654013e+07  7.17742910e+04 -2.10044114e+14\n",
      "  -5.80000334e+05  8.36204893e+05  2.19953969e+08]\n",
      " [-3.82939312e+13  2.81856323e+16 -2.10044114e+14  9.01622387e+23\n",
      "   1.95698524e+15 -3.78661315e+15 -6.81811550e+17]\n",
      " [ 1.67939323e+06  9.21543371e+07 -5.80000334e+05  1.95698524e+15\n",
      "   5.28379550e+06 -8.26801065e+06 -1.86295786e+09]\n",
      " [ 4.41536089e+06 -1.23861650e+08  8.36204893e+05 -3.78661315e+15\n",
      "  -8.26801065e+06  1.64026998e+07  2.84325151e+09]\n",
      " [ 7.74805249e+08 -1.77117213e+10  2.19953969e+08 -6.81811550e+17\n",
      "  -1.86295786e+09  2.84325151e+09  4.15284575e+12]]\n"
     ]
    }
   ],
   "source": [
    "#fix params and add priors\n",
    "fisher_mat, cosmo_params = tools.fn_fix_params(fisher_mat, cosmo_params, fix_params)\n",
    "cosmo_params = np.asarray(cosmo_params)\n",
    "#add prior\n",
    "fisher_mat = tools.fn_add_prior(fisher_mat, cosmo_params, prior_dict)\n",
    "print(fisher_mat)"
   ]
  },
  {
   "cell_type": "markdown",
   "metadata": {},
   "source": [
    "# print constraints"
   ]
  },
  {
   "cell_type": "code",
   "execution_count": 10,
   "metadata": {},
   "outputs": [
    {
     "name": "stdout",
     "output_type": "stream",
     "text": [
      "One sigma errors are listed below:\n",
      "\n",
      "\tParam = omega_c_h2; 0.000638\n",
      "\tParam = omega_b_h2; 4.42088e-05\n",
      "\tParam = N_eff; 0.0336912\n",
      "\tParam = A_s; 1.80689e-11\n",
      "\tParam = n_s; 0.00286747\n",
      "\tParam = tau; 0.00472488\n",
      "\tParam = theta_s; 7.43757e-07\n"
     ]
    }
   ],
   "source": [
    "cov_mat = np.linalg.inv(fisher_mat)\n",
    "cosmo_constraints = np.diag(cov_mat)**0.5\n",
    "\n",
    "print('One sigma errors are listed below:\\n')\n",
    "for p, sigma in zip(cosmo_params, cosmo_constraints):\n",
    "    print('\\tParam = %s; %g' %(p, sigma))"
   ]
  },
  {
   "cell_type": "code",
   "execution_count": null,
   "metadata": {},
   "outputs": [],
   "source": []
  },
  {
   "cell_type": "code",
   "execution_count": null,
   "metadata": {},
   "outputs": [],
   "source": []
  }
 ],
 "metadata": {
  "kernelspec": {
   "display_name": "Python 3 (ipykernel)",
   "language": "python",
   "name": "python3"
  },
  "language_info": {
   "codemirror_mode": {
    "name": "ipython",
    "version": 3
   },
   "file_extension": ".py",
   "mimetype": "text/x-python",
   "name": "python",
   "nbconvert_exporter": "python",
   "pygments_lexer": "ipython3",
   "version": "3.9.9"
  }
 },
 "nbformat": 4,
 "nbformat_minor": 2
}
